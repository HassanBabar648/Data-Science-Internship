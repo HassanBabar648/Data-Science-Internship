{
  "nbformat": 4,
  "nbformat_minor": 0,
  "metadata": {
    "colab": {
      "provenance": []
    },
    "kernelspec": {
      "name": "python3",
      "display_name": "Python 3"
    },
    "language_info": {
      "name": "python"
    }
  },
  "cells": [
    {
      "cell_type": "markdown",
      "source": [
        "**Program for finding if point is inside or outside of rectangle**\n"
      ],
      "metadata": {
        "id": "Hhep0Mw_rvhb"
      }
    },
    {
      "cell_type": "code",
      "source": [
        "input_ = [[0, 2, 2, 1],[1 ,2]]\n",
        "X = input_[1][0]\n",
        "y = input_[1][1]\n",
        "\n",
        "# RECTANGLE \n",
        "x0 = input_[0][0]\n",
        "y0 = input_[0][1]\n",
        "x1 = x0 + input_[0][2]\n",
        "y1 = y0 - input_[0][3]\n",
        "\n",
        "print(\"Rectangle : \",x0,y0,x1,y1)\n",
        "\n",
        "if(X>=x0 and X<=x1 and y>=y1 and y<=y0):\n",
        "  print(\"Point is inside the rectangle\")\n",
        "else:\n",
        "  print(\"Point is outside the rectangle\")\n",
        "\n",
        "\n"
      ],
      "metadata": {
        "colab": {
          "base_uri": "https://localhost:8080/"
        },
        "id": "Of7-6peqvsW1",
        "outputId": "63f49464-2427-44d1-8e1c-585e28d195d5"
      },
      "execution_count": 14,
      "outputs": [
        {
          "output_type": "stream",
          "name": "stdout",
          "text": [
            "Rectangle :  0 2 2 1\n",
            "Point is inside the rectangle\n"
          ]
        }
      ]
    },
    {
      "cell_type": "code",
      "source": [],
      "metadata": {
        "id": "oLLzDkHm-ahh"
      },
      "execution_count": null,
      "outputs": []
    }
  ]
}