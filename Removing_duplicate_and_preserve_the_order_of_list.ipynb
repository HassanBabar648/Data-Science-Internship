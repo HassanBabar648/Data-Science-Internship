{
  "nbformat": 4,
  "nbformat_minor": 0,
  "metadata": {
    "colab": {
      "provenance": []
    },
    "kernelspec": {
      "name": "python3",
      "display_name": "Python 3"
    },
    "language_info": {
      "name": "python"
    }
  },
  "cells": [
    {
      "cell_type": "markdown",
      "source": [
        "**Program for removing duplicate from the list and preserve the order of list**\n"
      ],
      "metadata": {
        "id": "Hhep0Mw_rvhb"
      }
    },
    {
      "cell_type": "code",
      "source": [
        "lst = [1,5,6,38,7,1,0,96,44,96,5,8,6,0]\n",
        "dup_lst=[]\n",
        "for element in lst:\n",
        "  if element not in dup_lst:\n",
        "    dup_lst.append(element)\n",
        "print(\"The final preserve list = \", dup_lst)"
      ],
      "metadata": {
        "colab": {
          "base_uri": "https://localhost:8080/"
        },
        "id": "powwN2nHr_ZG",
        "outputId": "aa4e4f57-5cb6-4355-d0a6-c66998513a19"
      },
      "execution_count": 2,
      "outputs": [
        {
          "output_type": "stream",
          "name": "stdout",
          "text": [
            "The final preserve list =  [1, 5, 6, 38, 7, 0, 96, 44, 8]\n"
          ]
        }
      ]
    },
    {
      "cell_type": "code",
      "source": [],
      "metadata": {
        "id": "aN71069ItBf4"
      },
      "execution_count": null,
      "outputs": []
    }
  ]
}