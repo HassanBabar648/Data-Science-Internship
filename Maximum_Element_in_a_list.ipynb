{
  "nbformat": 4,
  "nbformat_minor": 0,
  "metadata": {
    "colab": {
      "provenance": []
    },
    "kernelspec": {
      "name": "python3",
      "display_name": "Python 3"
    },
    "language_info": {
      "name": "python"
    }
  },
  "cells": [
    {
      "cell_type": "code",
      "execution_count": null,
      "metadata": {
        "id": "tnppOys1aDNW"
      },
      "outputs": [],
      "source": []
    },
    {
      "cell_type": "markdown",
      "source": [
        "**Program for finding maximum element in an array**"
      ],
      "metadata": {
        "id": "hcoNMLNrfPSz"
      }
    },
    {
      "cell_type": "code",
      "source": [
        "lst=[4,0,5,-4,1,-9,3]"
      ],
      "metadata": {
        "id": "pjV5Us_1fkYW"
      },
      "execution_count": 7,
      "outputs": []
    },
    {
      "cell_type": "code",
      "source": [
        "maximum_element=lst[0]"
      ],
      "metadata": {
        "id": "Ajt-oh6ffzq9"
      },
      "execution_count": 8,
      "outputs": []
    },
    {
      "cell_type": "code",
      "source": [
        "for element in lst:\n",
        "  if element > maximum_element:\n",
        "    maximum_element = element\n",
        "print(\"The maximum element in list = \", maximum_element)"
      ],
      "metadata": {
        "colab": {
          "base_uri": "https://localhost:8080/"
        },
        "id": "exILUozvgJIS",
        "outputId": "e9ac81ce-2718-42db-d3bf-f7caffa8c435"
      },
      "execution_count": 9,
      "outputs": [
        {
          "output_type": "stream",
          "name": "stdout",
          "text": [
            "The maximum element in list =  5\n"
          ]
        }
      ]
    },
    {
      "cell_type": "code",
      "source": [],
      "metadata": {
        "id": "WyH6BWvIhHUt"
      },
      "execution_count": null,
      "outputs": []
    }
  ]
}