{
  "nbformat": 4,
  "nbformat_minor": 0,
  "metadata": {
    "colab": {
      "provenance": []
    },
    "kernelspec": {
      "name": "python3",
      "display_name": "Python 3"
    },
    "language_info": {
      "name": "python"
    }
  },
  "cells": [
    {
      "cell_type": "code",
      "execution_count": null,
      "metadata": {
        "id": "tnppOys1aDNW"
      },
      "outputs": [],
      "source": []
    },
    {
      "cell_type": "markdown",
      "source": [
        "**Program for finding minimum element in an array**"
      ],
      "metadata": {
        "id": "hcoNMLNrfPSz"
      }
    },
    {
      "cell_type": "code",
      "source": [
        "lst=[4,0,5,-4,1,-9,3]"
      ],
      "metadata": {
        "id": "pjV5Us_1fkYW"
      },
      "execution_count": 2,
      "outputs": []
    },
    {
      "cell_type": "code",
      "source": [
        "minimum_element=lst[0]"
      ],
      "metadata": {
        "id": "Ajt-oh6ffzq9"
      },
      "execution_count": 3,
      "outputs": []
    },
    {
      "cell_type": "code",
      "source": [
        "for element in lst:\n",
        "  if element < minimum_element:\n",
        "    minimum_element = element\n",
        "print(\"The minimum element in list = \", minimum_element)"
      ],
      "metadata": {
        "colab": {
          "base_uri": "https://localhost:8080/"
        },
        "id": "exILUozvgJIS",
        "outputId": "e1c1c8c6-01e9-4789-94ee-85a2fe6fedb0"
      },
      "execution_count": 4,
      "outputs": [
        {
          "output_type": "stream",
          "name": "stdout",
          "text": [
            "The minimum element in list =  -9\n"
          ]
        }
      ]
    },
    {
      "cell_type": "code",
      "source": [],
      "metadata": {
        "id": "WyH6BWvIhHUt"
      },
      "execution_count": null,
      "outputs": []
    }
  ]
}