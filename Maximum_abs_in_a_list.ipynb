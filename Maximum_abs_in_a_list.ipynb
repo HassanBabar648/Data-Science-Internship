{
  "nbformat": 4,
  "nbformat_minor": 0,
  "metadata": {
    "colab": {
      "provenance": []
    },
    "kernelspec": {
      "name": "python3",
      "display_name": "Python 3"
    },
    "language_info": {
      "name": "python"
    }
  },
  "cells": [
    {
      "cell_type": "code",
      "execution_count": null,
      "metadata": {
        "id": "tnppOys1aDNW"
      },
      "outputs": [],
      "source": []
    },
    {
      "cell_type": "markdown",
      "source": [
        "**Program for finding maximum absolute value in an array space complexity o(1)**"
      ],
      "metadata": {
        "id": "hcoNMLNrfPSz"
      }
    },
    {
      "cell_type": "code",
      "source": [
        "arr = [0,-1,5,7,10]"
      ],
      "metadata": {
        "id": "pjV5Us_1fkYW"
      },
      "execution_count": 14,
      "outputs": []
    },
    {
      "cell_type": "code",
      "source": [
        "max_val = arr[0]\n",
        "for i in range(len(arr)):\n",
        "  for j in range (len(arr)):\n",
        "    val = abs(arr[i] - arr[j])\n",
        "    if val > max_val:\n",
        "      max_val = val\n",
        "      \n",
        "print(\"The maximum absolute value = \",max_val)"
      ],
      "metadata": {
        "colab": {
          "base_uri": "https://localhost:8080/"
        },
        "id": "Ajt-oh6ffzq9",
        "outputId": "daaba58c-634b-420c-fbf4-970720c13633"
      },
      "execution_count": 15,
      "outputs": [
        {
          "output_type": "stream",
          "name": "stdout",
          "text": [
            "The maximum absolute value =  11\n"
          ]
        }
      ]
    },
    {
      "cell_type": "markdown",
      "source": [
        "Program for finding maximum absolute value in an array time complexity o(n)"
      ],
      "metadata": {
        "id": "DtiqtFDipvj7"
      }
    },
    {
      "cell_type": "code",
      "source": [
        "lst = [0,-1,5,7,10]\n",
        "small = lst[0]\n",
        "large = lst[0]\n",
        "for i in range(len(lst)):\n",
        "        if  lst[i] < small:\n",
        "               small = lst[i]\n",
        "        elif lst[i] > large:\n",
        "               large = lst[i]\n",
        "print(\"Max diff:\", abs(large - small))"
      ],
      "metadata": {
        "colab": {
          "base_uri": "https://localhost:8080/"
        },
        "id": "exILUozvgJIS",
        "outputId": "582a8479-8be4-46b6-ec44-cc70166e0ede"
      },
      "execution_count": 17,
      "outputs": [
        {
          "output_type": "stream",
          "name": "stdout",
          "text": [
            "Max diff: 11\n"
          ]
        }
      ]
    },
    {
      "cell_type": "code",
      "source": [],
      "metadata": {
        "id": "WyH6BWvIhHUt"
      },
      "execution_count": null,
      "outputs": []
    }
  ]
}