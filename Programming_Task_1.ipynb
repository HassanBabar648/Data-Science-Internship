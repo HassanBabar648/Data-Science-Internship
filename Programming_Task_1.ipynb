{
  "nbformat": 4,
  "nbformat_minor": 0,
  "metadata": {
    "colab": {
      "provenance": []
    },
    "kernelspec": {
      "name": "python3",
      "display_name": "Python 3"
    },
    "language_info": {
      "name": "python"
    }
  },
  "cells": [
    {
      "cell_type": "markdown",
      "source": [
        "**Task1 Problem 1**\n"
      ],
      "metadata": {
        "id": "sd5yH9WiIBPS"
      }
    },
    {
      "cell_type": "code",
      "source": [
        "print(\"Hello, World!\")"
      ],
      "metadata": {
        "colab": {
          "base_uri": "https://localhost:8080/"
        },
        "id": "vY_noQf0IdhS",
        "outputId": "2e394df1-0fd1-48ef-e66d-dea13c21c7ff"
      },
      "execution_count": 1,
      "outputs": [
        {
          "output_type": "stream",
          "name": "stdout",
          "text": [
            "Hello, World!\n"
          ]
        }
      ]
    },
    {
      "cell_type": "markdown",
      "source": [
        "**Task1 Problem 2**"
      ],
      "metadata": {
        "id": "l9jjrzVAImG1"
      }
    },
    {
      "cell_type": "code",
      "source": [
        "n = int(input(\"enter a num = \"))\n",
        "if ((n%2) != 0):\n",
        "  print(\"Weird\")\n",
        "\n",
        "elif (((n%2) == 0) and (n>=2 and n<=5)):\n",
        "  print(\"CON 1 The number is even and Not Weird :\",n)\n",
        "\n",
        "elif (((n%2) == 0) and (n>=6 and n<=20)):\n",
        "  print(\"CON 2 The number is even and Weird :\",n)\n",
        "\n",
        "elif (((n%2) == 0) and (n>20 and n<=100)):\n",
        "  print(\"CON 3 The number is even and Not Weird :\",n)\n",
        "\n",
        "else:\n",
        "  print(\"The number is greter then 100\")"
      ],
      "metadata": {
        "colab": {
          "base_uri": "https://localhost:8080/"
        },
        "id": "oq9H4u0rIvec",
        "outputId": "62ed0619-f2f8-4b08-ac34-4bb17ef5be6c"
      },
      "execution_count": 31,
      "outputs": [
        {
          "output_type": "stream",
          "name": "stdout",
          "text": [
            "enter a num = 50\n",
            "CON 3 The number is even and Not Weird : 50\n"
          ]
        }
      ]
    },
    {
      "cell_type": "markdown",
      "source": [
        "**Task1 Problem 3**"
      ],
      "metadata": {
        "id": "rsASL6nRjXro"
      }
    },
    {
      "cell_type": "code",
      "source": [
        "num1 = int(input(\"enter a num1 = \"))\n",
        "num2 = int(input(\"enter a num2 = \"))\n",
        "print(\"The sum of num1 and num2 = \",num1+num2)\n",
        "print(\"The difference of num1 and num2 = \",num1-num2)\n",
        "print(\"The product of num1 and num2 = \",num1*num2)"
      ],
      "metadata": {
        "colab": {
          "base_uri": "https://localhost:8080/"
        },
        "id": "ufFgHmJlMUEj",
        "outputId": "8f9bfaa2-e7a5-436a-c1b6-209b03b04a45"
      },
      "execution_count": 33,
      "outputs": [
        {
          "output_type": "stream",
          "name": "stdout",
          "text": [
            "enter a num1 = 7\n",
            "enter a num2 = 3\n",
            "The sum of num1 and num2 =  10\n",
            "The difference of num1 and num2 =  4\n",
            "The product of num1 and num2 =  21\n"
          ]
        }
      ]
    },
    {
      "cell_type": "code",
      "source": [],
      "metadata": {
        "id": "R6_NlvMtjghd"
      },
      "execution_count": null,
      "outputs": []
    },
    {
      "cell_type": "markdown",
      "source": [
        "**Task1 Problem 4**"
      ],
      "metadata": {
        "id": "7_1ysGfwkaTq"
      }
    },
    {
      "cell_type": "code",
      "source": [
        "num1 = int(input(\"enter a num1 = \"))\n",
        "num2 = int(input(\"enter a num2 = \"))\n",
        "print(\"The result of interger division num1 and num2 = \",num1//num2)\n",
        "print(\"The result of float division num1 and num2 = \",num1/num2)\n"
      ],
      "metadata": {
        "colab": {
          "base_uri": "https://localhost:8080/"
        },
        "id": "UuMdY_Paklb3",
        "outputId": "e040cb25-79ef-4a1d-be90-8619d2ba98f2"
      },
      "execution_count": 35,
      "outputs": [
        {
          "output_type": "stream",
          "name": "stdout",
          "text": [
            "enter a num1 = 7\n",
            "enter a num2 = 2\n",
            "The result of interger division num1 and num2 =  3\n",
            "The result of float division num1 and num2 =  3.5\n"
          ]
        }
      ]
    },
    {
      "cell_type": "markdown",
      "source": [
        "**Task1 Problem 5**"
      ],
      "metadata": {
        "id": "udeRwSVZmzNn"
      }
    },
    {
      "cell_type": "code",
      "source": [
        "num = int(input(\"enter an integer : \"))\n",
        "for i in range(num):\n",
        "  if i>0:\n",
        "    print(\"The square of num \",i, \"is : \",i**3)\n"
      ],
      "metadata": {
        "colab": {
          "base_uri": "https://localhost:8080/"
        },
        "id": "ukBJaqbslsMc",
        "outputId": "e9ccdcd4-aeb9-4ada-d4c0-79fd6798ef32"
      },
      "execution_count": 43,
      "outputs": [
        {
          "output_type": "stream",
          "name": "stdout",
          "text": [
            "enter an integer : 5\n",
            "The square of num  1 is :  1\n",
            "The square of num  2 is :  8\n",
            "The square of num  3 is :  27\n",
            "The square of num  4 is :  64\n"
          ]
        }
      ]
    },
    {
      "cell_type": "markdown",
      "source": [
        "**Task1 Problem 6**\n"
      ],
      "metadata": {
        "id": "qf20SSJZtDow"
      }
    },
    {
      "cell_type": "code",
      "source": [],
      "metadata": {
        "id": "FsF6v1fq0bh5"
      },
      "execution_count": 50,
      "outputs": []
    },
    {
      "cell_type": "code",
      "source": [
        "def is_leap(year):\n",
        "    if ((year % 4 == 0) and (year % 100 != 0) or (year % 400 == 0)):\n",
        "      return True\n",
        "    else:\n",
        "      return False\n",
        "\n",
        "year = int(input(\"enter a year : \"))\n",
        "print(is_leap(year))"
      ],
      "metadata": {
        "colab": {
          "base_uri": "https://localhost:8080/"
        },
        "id": "-uCv2ljxprDe",
        "outputId": "e6b64ca7-f6c7-4304-e1d1-50b71030dbae"
      },
      "execution_count": 57,
      "outputs": [
        {
          "output_type": "stream",
          "name": "stdout",
          "text": [
            "enter a year : 2020\n",
            "True\n"
          ]
        }
      ]
    },
    {
      "cell_type": "markdown",
      "source": [
        "**Task1 Problem 7**"
      ],
      "metadata": {
        "id": "y_HbL3r56OlH"
      }
    },
    {
      "cell_type": "code",
      "source": [
        "n = int(input(\"Enter an integer: \"))\n",
        "for i in range(1, n+1):\n",
        "    print(i, end='')"
      ],
      "metadata": {
        "colab": {
          "base_uri": "https://localhost:8080/"
        },
        "id": "z0CaDtdQx-wF",
        "outputId": "925f3b28-cd69-420f-8af4-4c6286a16f5c"
      },
      "execution_count": 59,
      "outputs": [
        {
          "output_type": "stream",
          "name": "stdout",
          "text": [
            "Enter an integer: 7\n",
            "1234567"
          ]
        }
      ]
    },
    {
      "cell_type": "code",
      "source": [],
      "metadata": {
        "id": "KKweEebR4hIB"
      },
      "execution_count": null,
      "outputs": []
    }
  ]
}