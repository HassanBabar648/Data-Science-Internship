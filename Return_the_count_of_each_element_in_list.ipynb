{
  "nbformat": 4,
  "nbformat_minor": 0,
  "metadata": {
    "colab": {
      "provenance": []
    },
    "kernelspec": {
      "name": "python3",
      "display_name": "Python 3"
    },
    "language_info": {
      "name": "python"
    }
  },
  "cells": [
    {
      "cell_type": "markdown",
      "source": [
        "**Program for return the count of each elements in a list removing**\n"
      ],
      "metadata": {
        "id": "Hhep0Mw_rvhb"
      }
    },
    {
      "cell_type": "code",
      "source": [
        "lst = [1,4,5,6,8,1,2,5,3,4,8,3,5,1,2]\n",
        "dict_counts = {}\n",
        "for element in lst:\n",
        "  if element not in dict_counts:\n",
        "    dict_counts[element] = 1\n",
        "  else:\n",
        "    dict_counts[element] = dict_counts[element] + 1\n",
        "print(\"The number of each element in a list : \", dict_counts)\n"
      ],
      "metadata": {
        "colab": {
          "base_uri": "https://localhost:8080/"
        },
        "id": "Of7-6peqvsW1",
        "outputId": "efc4c28c-c8c4-4b51-a166-b3de36f1e698"
      },
      "execution_count": 8,
      "outputs": [
        {
          "output_type": "stream",
          "name": "stdout",
          "text": [
            "The number of each element in a list :  {1: 3, 4: 2, 5: 3, 6: 1, 8: 2, 2: 2, 3: 2}\n"
          ]
        }
      ]
    }
  ]
}