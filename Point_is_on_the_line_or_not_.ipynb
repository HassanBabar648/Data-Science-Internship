{
  "nbformat": 4,
  "nbformat_minor": 0,
  "metadata": {
    "colab": {
      "provenance": []
    },
    "kernelspec": {
      "name": "python3",
      "display_name": "Python 3"
    },
    "language_info": {
      "name": "python"
    }
  },
  "cells": [
    {
      "cell_type": "markdown",
      "source": [
        "**Program for finding point is on the line or not**\n"
      ],
      "metadata": {
        "id": "Hhep0Mw_rvhb"
      }
    },
    {
      "cell_type": "code",
      "source": [
        "# Give a line and point, find point is on line or not\n",
        "input_ = [[1,0] , [1,1]]\n",
        "\n",
        "# Equation of line is y=mx+c\n",
        "m = input_[0][0]\n",
        "c = input_[0][1]\n",
        "x = input_[1][0]\n",
        "y = input_[1][1]\n",
        "\n",
        "if (y == m * x + c):\n",
        "  print(\"The line is on the point\")\n",
        "else:\n",
        "  print(\"The line is not on the point\")"
      ],
      "metadata": {
        "id": "ZVUX_LiTb_96",
        "colab": {
          "base_uri": "https://localhost:8080/"
        },
        "outputId": "77ee5b78-a145-4367-f915-c2785b7f0743"
      },
      "execution_count": 5,
      "outputs": [
        {
          "output_type": "stream",
          "name": "stdout",
          "text": [
            "The line is on the point\n"
          ]
        }
      ]
    },
    {
      "cell_type": "code",
      "source": [],
      "metadata": {
        "id": "FL0B1JdfcAux"
      },
      "execution_count": null,
      "outputs": []
    }
  ]
}